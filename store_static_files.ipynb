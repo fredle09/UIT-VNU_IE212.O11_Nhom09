{
 "cells": [
  {
   "cell_type": "code",
   "execution_count": 1,
   "id": "1f912222-025e-470d-9a28-3461380f9a7c",
   "metadata": {
    "tags": []
   },
   "outputs": [],
   "source": [
    "from bin.config import *\n",
    "from bin.producer import Producer"
   ]
  },
  {
   "cell_type": "code",
   "execution_count": 2,
   "id": "284140e7-803b-4bab-80ee-002e10d82245",
   "metadata": {
    "tags": []
   },
   "outputs": [],
   "source": [
    "spark_session: SparkSession = (\n",
    "    SparkSession.builder.appName(\"StoreStaticFiles\")  # type: ignore\n",
    "    .config(\"spark.jars.packages\", \",\".join(SPARK_PACKAGES))\n",
    "    .config(\"spark.sql.legacy.timeParserPolicy\", \"CORRECTED\")\n",
    "    .getOrCreate()\n",
    ")"
   ]
  },
  {
   "cell_type": "code",
   "execution_count": 3,
   "id": "f3d72e21-1f04-4b1d-b2c3-761a0b68ce45",
   "metadata": {},
   "outputs": [],
   "source": [
    "pro: Producer = Producer(\n",
    "    topic=CAPTURE_TOPIC,\n",
    "    schema_list=CAPTURE_SCHEMA_LIST,\n",
    "    csv_file_path=os.path.join(\n",
    "        DATASETS_PATH, \"static_files\", \"capture_table.csv\"\n",
    "    ),\n",
    "    spark_session=spark_session,\n",
    ")\n",
    "pro.store_csv_to_kafka()"
   ]
  },
  {
   "cell_type": "code",
   "execution_count": 5,
   "id": "16d847a5-56fe-4a53-a6ab-0574b844c6ba",
   "metadata": {},
   "outputs": [],
   "source": [
    "pro: Producer = Producer(\n",
    "    topic=SEGMENT_TOPIC,\n",
    "    schema_list=SEGMENT_SCHEMA_LIST,\n",
    "    csv_file_path=os.path.join(\n",
    "        DATASETS_PATH, \"static_files\", \"segment_table.csv\"\n",
    "    ),\n",
    "    spark_session=spark_session,\n",
    ")\n",
    "pro.store_csv_to_kafka()"
   ]
  },
  {
   "cell_type": "code",
   "execution_count": null,
   "id": "d96b6544-c56e-4dc0-9ded-65c40104dc9c",
   "metadata": {},
   "outputs": [],
   "source": []
  }
 ],
 "metadata": {
  "kernelspec": {
   "display_name": "Python 3 (ipykernel)",
   "language": "python",
   "name": "python3"
  },
  "language_info": {
   "codemirror_mode": {
    "name": "ipython",
    "version": 3
   },
   "file_extension": ".py",
   "mimetype": "text/x-python",
   "name": "python",
   "nbconvert_exporter": "python",
   "pygments_lexer": "ipython3",
   "version": "3.11.4"
  }
 },
 "nbformat": 4,
 "nbformat_minor": 5
}
