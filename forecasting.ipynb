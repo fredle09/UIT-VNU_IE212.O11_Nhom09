{
 "cells": [
  {
   "cell_type": "code",
   "execution_count": 1,
   "id": "5257a845-48c7-4ec8-b695-f1af05de4409",
   "metadata": {
    "tags": []
   },
   "outputs": [],
   "source": [
    "from bin.config import *\n",
    "from bin.forecasting import Model\n",
    "from bin.producer import Producer\n",
    "from bin.consumer import Consumer"
   ]
  },
  {
   "cell_type": "code",
   "execution_count": 2,
   "id": "4f34ac79-5cd3-4a6f-a76b-b6d2e9e1591e",
   "metadata": {
    "tags": []
   },
   "outputs": [],
   "source": [
    "LIMIT_DATETIME_VALUES: list[dict[str, int]] = [\n",
    "    {\"days\": 7},\n",
    "    {\"days\": 3},\n",
    "    {\"days\": 1},\n",
    "]"
   ]
  },
  {
   "cell_type": "code",
   "execution_count": 3,
   "id": "58f17797-f20a-48b1-963b-7bfbf40a82d4",
   "metadata": {
    "tags": []
   },
   "outputs": [],
   "source": [
    "spark_session: SparkSession = (\n",
    "    SparkSession.builder.appName(\"Forecasting App\")  # type: ignore\n",
    "    .config(\"spark.jars.packages\", \",\".join(SPARK_PACKAGES))\n",
    "    .config(\"spark.sql.legacy.timeParserPolicy\", \"CORRECTED\")\n",
    "    .getOrCreate()\n",
    ")\n"
   ]
  },
  {
   "cell_type": "code",
   "execution_count": 4,
   "id": "6fb22f54-df8f-4011-857d-4cbed88b71d7",
   "metadata": {
    "tags": []
   },
   "outputs": [],
   "source": [
    "con: Consumer = Consumer(CAPTURE_TOPIC, CAPTURE_SCHEMA_LIST, spark_session)\n",
    "pro: Producer = Producer(PREDICTION_TOPIC, PREDICTION_SCHEMA_LIST, spark_session)\n"
   ]
  },
  {
   "cell_type": "code",
   "execution_count": 5,
   "id": "9901b9a5-2d1d-4dcd-8844-968d6a8858c4",
   "metadata": {
    "tags": []
   },
   "outputs": [],
   "source": [
    "def forecasting_traffic(history_df: pd.DataFrame) -> pd.DataFrame:\n",
    "    segment_id_value: int = history_df.at[0, \"SegmentID\"]\n",
    "    direction_value: str = history_df.at[0, \"Direction\"]\n",
    "\n",
    "    max_his_ds: datetime = history_df[\"ds\"].max()\n",
    "\n",
    "    model: Model = Model(timedelta(**LIMIT_DATETIME_VALUES[2]))\n",
    "    model.fit(history_df)\n",
    "    future_pred_df: pd.DataFrame = model.forecasting()\n",
    "\n",
    "    future_pred_df[\"SegmentID\"] = segment_id_value\n",
    "    future_pred_df[\"Direction\"] = direction_value\n",
    "\n",
    "    future_pred_df.loc[:, \"min_history_ds\"] = model.range_history[0]\n",
    "    future_pred_df.loc[:, \"max_history_ds\"] = max_his_ds\n",
    "\n",
    "    return future_pred_df\n"
   ]
  },
  {
   "cell_type": "code",
   "execution_count": 6,
   "id": "d216b3aa-9ef2-4f3b-b7e0-7080a6630b56",
   "metadata": {
    "tags": []
   },
   "outputs": [],
   "source": [
    "def group_by__forecasting(df: DataFrame) -> DataFrame:\n",
    "    pred_df: DataFrame = (\n",
    "        df.withColumnsRenamed({\"Timestamp\": \"ds\", \"Vol\": \"y\"})\n",
    "        .groupBy(\"SegmentID\", \"Direction\")\n",
    "        .applyInPandas(\n",
    "            func=forecasting_traffic,\n",
    "            schema=\", \".join(FORECASTING_SCHEMA_LIST),\n",
    "        )\n",
    "        .withColumnsRenamed({\"ds\": \"Timestamp\", \"yhat\": \"prediction_vol\"})\n",
    "        .withColumn(\"prediction_ds\", F.current_timestamp())\n",
    "    )\n",
    "\n",
    "    return pred_df\n"
   ]
  },
  {
   "cell_type": "code",
   "execution_count": 7,
   "id": "7d185ae0-215e-4f1e-9f92-377772f1f009",
   "metadata": {
    "tags": []
   },
   "outputs": [
    {
     "name": "stdout",
     "output_type": "stream",
     "text": [
      "69.310463\n",
      "58.293239\n",
      "54.293513\n",
      "59.895232\n",
      "62.527391\n",
      "59.052255\n",
      "60.279827\n",
      "49.378019\n",
      "56.192061\n",
      "45.369206\n",
      "41.036297\n",
      "42.423481\n",
      "44.608354\n",
      "48.193988\n",
      "42.718109\n",
      "37.22834\n",
      "83.109899\n",
      "49.020806\n",
      "43.645338\n",
      "42.225739\n",
      "40.057337\n",
      "39.557947\n",
      "38.743521\n",
      "37.715431\n",
      "40.824382\n"
     ]
    },
    {
     "ename": "KeyboardInterrupt",
     "evalue": "",
     "output_type": "error",
     "traceback": [
      "\u001b[1;31m---------------------------------------------------------------------------\u001b[0m",
      "\u001b[1;31mKeyboardInterrupt\u001b[0m                         Traceback (most recent call last)",
      "Cell \u001b[1;32mIn[7], line 10\u001b[0m\n\u001b[0;32m      8\u001b[0m \u001b[38;5;28mprint\u001b[39m(time)\n\u001b[0;32m      9\u001b[0m sleeping_time: \u001b[38;5;28mfloat\u001b[39m \u001b[38;5;241m=\u001b[39m \u001b[38;5;28mmax\u001b[39m(DELAY \u001b[38;5;241m*\u001b[39m \u001b[38;5;241m4\u001b[39m \u001b[38;5;241m-\u001b[39m time, \u001b[38;5;241m0\u001b[39m)\n\u001b[1;32m---> 10\u001b[0m sleep(sleeping_time)\n",
      "\u001b[1;31mKeyboardInterrupt\u001b[0m: "
     ]
    }
   ],
   "source": [
    "history_df: DataFrame = con.get_history_df()\n",
    "\n",
    "while True:\n",
    "    start_time_point_: datetime = datetime.now()\n",
    "    future_prediction_df: DataFrame = group_by__forecasting(history_df)\n",
    "    pro.store_dataframe_to_kafka(future_prediction_df)\n",
    "    time: float = (datetime.now() - start_time_point_).total_seconds()\n",
    "    print(time)\n",
    "    sleeping_time: float = max(DELAY * 4 - time, 0)\n",
    "    sleep(sleeping_time)"
   ]
  },
  {
   "cell_type": "code",
   "execution_count": null,
   "id": "e52b8e10-5b9d-493a-b428-17d8be892c6e",
   "metadata": {},
   "outputs": [],
   "source": []
  }
 ],
 "metadata": {
  "kernelspec": {
   "display_name": "Python 3 (ipykernel)",
   "language": "python",
   "name": "python3"
  },
  "language_info": {
   "codemirror_mode": {
    "name": "ipython",
    "version": 3
   },
   "file_extension": ".py",
   "mimetype": "text/x-python",
   "name": "python",
   "nbconvert_exporter": "python",
   "pygments_lexer": "ipython3",
   "version": "3.11.4"
  }
 },
 "nbformat": 4,
 "nbformat_minor": 5
}
