{
 "cells": [
  {
   "cell_type": "code",
   "execution_count": 1,
   "id": "5257a845-48c7-4ec8-b695-f1af05de4409",
   "metadata": {
    "tags": []
   },
   "outputs": [],
   "source": [
    "from bin.config import *\n",
    "from bin.forecasting import Model\n",
    "from bin.producer import Producer\n",
    "from bin.consumer import Consumer"
   ]
  },
  {
   "cell_type": "code",
   "execution_count": 2,
   "id": "4f34ac79-5cd3-4a6f-a76b-b6d2e9e1591e",
   "metadata": {
    "tags": []
   },
   "outputs": [],
   "source": [
    "LIMIT_DATETIME_VALUES: list[dict[str, int]] = [\n",
    "    {\"days\": 7},\n",
    "    {\"days\": 3},\n",
    "    {\"days\": 1},\n",
    "]"
   ]
  },
  {
   "cell_type": "code",
   "execution_count": 3,
   "id": "58f17797-f20a-48b1-963b-7bfbf40a82d4",
   "metadata": {
    "tags": []
   },
   "outputs": [],
   "source": [
    "spark_session: SparkSession = (\n",
    "    SparkSession.builder.appName(\"Forecasting App\")  # type: ignore\n",
    "    .config(\"spark.jars.packages\", \",\".join(SPARK_PACKAGES))\n",
    "    .config(\"spark.sql.legacy.timeParserPolicy\", \"CORRECTED\")\n",
    "    .getOrCreate()\n",
    ")"
   ]
  },
  {
   "cell_type": "code",
   "execution_count": 4,
   "id": "6fb22f54-df8f-4011-857d-4cbed88b71d7",
   "metadata": {
    "tags": []
   },
   "outputs": [],
   "source": [
    "con: Consumer = Consumer(\n",
    "    topic=CAPTURE_TOPIC,\n",
    "    schema_list=CAPTURE_SCHEMA_LIST,\n",
    "    spark_session=spark_session,\n",
    ")\n",
    "\n",
    "pro: Producer = Producer(\n",
    "    topic=PREDICTION_TOPIC,\n",
    "    schema_list=PREDICTION_SCHEMA_LIST,\n",
    "    spark_session=spark_session,\n",
    ")"
   ]
  },
  {
   "cell_type": "code",
   "execution_count": 5,
   "id": "9901b9a5-2d1d-4dcd-8844-968d6a8858c4",
   "metadata": {
    "tags": []
   },
   "outputs": [],
   "source": [
    "def forecasting_traffic(history_df: pd.DataFrame) -> pd.DataFrame:\n",
    "    segment_id_value: int = history_df.at[0, \"SegmentID\"]\n",
    "    direction_value: str = history_df.at[0, \"Direction\"]\n",
    "\n",
    "    max_his_ds: datetime = history_df[\"ds\"].max()\n",
    "\n",
    "    model: Model = Model(timedelta(**LIMIT_DATETIME_VALUES[0]))\n",
    "    model.fit(history_df)\n",
    "    future_pred_df: pd.DataFrame = model.forecasting()\n",
    "\n",
    "    future_pred_df[\"SegmentID\"] = segment_id_value\n",
    "    future_pred_df[\"Direction\"] = direction_value\n",
    "\n",
    "    future_pred_df.loc[:, \"min_history_ds\"] = model.range_history[0]\n",
    "    future_pred_df.loc[:, \"max_history_ds\"] = max_his_ds\n",
    "\n",
    "    return future_pred_df\n"
   ]
  },
  {
   "cell_type": "code",
   "execution_count": 6,
   "id": "d216b3aa-9ef2-4f3b-b7e0-7080a6630b56",
   "metadata": {
    "tags": []
   },
   "outputs": [],
   "source": [
    "def group_by__forecasting(df: DataFrame) -> DataFrame:\n",
    "    pred_df: DataFrame = (\n",
    "        df.withColumnsRenamed({\"Timestamp\": \"ds\", \"Vol\": \"y\"})\n",
    "        .groupBy(\"SegmentID\", \"Direction\")\n",
    "        .applyInPandas(\n",
    "            func=forecasting_traffic,\n",
    "            schema=\", \".join(FORECASTING_SCHEMA_LIST),\n",
    "        )\n",
    "        .withColumnsRenamed({\"ds\": \"Timestamp\", \"yhat\": \"prediction_vol\"})\n",
    "        .withColumn(\"prediction_ds\", F.current_timestamp())\n",
    "    )\n",
    "\n",
    "    return pred_df\n"
   ]
  },
  {
   "cell_type": "code",
   "execution_count": null,
   "id": "7d185ae0-215e-4f1e-9f92-377772f1f009",
   "metadata": {
    "tags": []
   },
   "outputs": [
    {
     "name": "stdout",
     "output_type": "stream",
     "text": [
      "60.613925\n",
      "41.946724\n",
      "39.883609\n",
      "101.760841\n",
      "36.762458\n",
      "39.627119\n",
      "36.995126\n",
      "39.621901\n",
      "40.326314\n",
      "38.649536\n",
      "48.633052\n",
      "51.153944\n",
      "45.969296\n",
      "40.159911\n",
      "38.616403\n",
      "36.161473\n",
      "46.925173\n",
      "42.254812\n",
      "41.627194\n",
      "49.011821\n",
      "37.449618\n",
      "43.374959\n",
      "43.134062\n",
      "43.579632\n",
      "47.498931\n",
      "35.081412\n",
      "39.067044\n",
      "43.622305\n",
      "38.040624\n",
      "37.899777\n",
      "38.394969\n",
      "37.60574\n",
      "36.911409\n",
      "39.78108\n",
      "37.247215\n",
      "37.146867\n",
      "37.955538\n",
      "36.991289\n",
      "37.26367\n",
      "38.312235\n",
      "36.193139\n",
      "36.976447\n"
     ]
    }
   ],
   "source": [
    "history_df: DataFrame = con.get_history_df()\n",
    "\n",
    "while True:\n",
    "    start_time_point_: datetime = datetime.now()\n",
    "    future_prediction_df: DataFrame = group_by__forecasting(history_df)\n",
    "    pro.store_dataframe_to_kafka(future_prediction_df)\n",
    "    time: float = (datetime.now() - start_time_point_).total_seconds()\n",
    "    print(time)\n",
    "    sleeping_time: float = max(DELAY - time, 0)\n",
    "    sleep(sleeping_time)"
   ]
  },
  {
   "cell_type": "code",
   "execution_count": null,
   "id": "e52b8e10-5b9d-493a-b428-17d8be892c6e",
   "metadata": {},
   "outputs": [],
   "source": []
  }
 ],
 "metadata": {
  "kernelspec": {
   "display_name": "Python 3 (ipykernel)",
   "language": "python",
   "name": "python3"
  },
  "language_info": {
   "codemirror_mode": {
    "name": "ipython",
    "version": 3
   },
   "file_extension": ".py",
   "mimetype": "text/x-python",
   "name": "python",
   "nbconvert_exporter": "python",
   "pygments_lexer": "ipython3",
   "version": "3.11.4"
  }
 },
 "nbformat": 4,
 "nbformat_minor": 5
}
