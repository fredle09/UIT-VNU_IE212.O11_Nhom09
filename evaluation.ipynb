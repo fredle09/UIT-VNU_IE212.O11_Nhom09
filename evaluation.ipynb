{
 "cells": [
  {
   "cell_type": "code",
   "execution_count": 1,
   "id": "b91e1a59-121a-4b6c-abd7-f610ac6e19d3",
   "metadata": {
    "tags": []
   },
   "outputs": [],
   "source": [
    "from IPython.display import display, clear_output\n",
    "from bin.config import *\n",
    "from bin.consumer import Consumer"
   ]
  },
  {
   "cell_type": "code",
   "execution_count": 2,
   "id": "54fb9580-1fd8-447d-96aa-feb147f3ce77",
   "metadata": {
    "tags": []
   },
   "outputs": [],
   "source": [
    "spark_session: SparkSession = (\n",
    "    SparkSession.builder.appName(\"Real-time Evaluation Prediction\")\n",
    "    .config(\"spark.jars.packages\", \",\".join(SPARK_PACKAGES))\n",
    "    .getOrCreate()\n",
    ")"
   ]
  },
  {
   "cell_type": "code",
   "execution_count": 3,
   "id": "9aabae05-d523-492d-bdc1-5453a3c8c164",
   "metadata": {
    "tags": []
   },
   "outputs": [],
   "source": [
    "capture_con: Consumer = Consumer(\n",
    "    CAPTURE_TOPIC, CAPTURE_SCHEMA_LIST, spark_session\n",
    ")\n",
    "\n",
    "prediction_con: Consumer = Consumer(\n",
    "    PREDICTION_TOPIC, PREDICTION_SCHEMA_LIST, spark_session\n",
    ")"
   ]
  },
  {
   "cell_type": "code",
   "execution_count": 4,
   "id": "6bda87f9-ccc2-4657-a230-40b62d95e335",
   "metadata": {},
   "outputs": [],
   "source": [
    "capture_df: DataFrame = capture_con.get_history_df()\n",
    "prediction_df: DataFrame = prediction_con.get_history_df()\n",
    "\n",
    "prediction_df = (\n",
    "    prediction_df.withColumn(\"range_history\", F.col(\"max_history_ds\") - F.col(\"min_history_ds\"))\n",
    "    .withColumn(\"future_forecasting\", F.col(\"Timestamp\") - F.col(\"max_history_ds\"))\n",
    ")"
   ]
  },
  {
   "cell_type": "code",
   "execution_count": 11,
   "id": "d43cd11e-d714-4b8f-911c-6c635a97aeb0",
   "metadata": {
    "tags": []
   },
   "outputs": [],
   "source": [
    "join_df = (\n",
    "    capture_df.join(\n",
    "        prediction_df,\n",
    "        on=[\"SegmentID\", \"Timestamp\", \"Direction\"],\n",
    "        how=\"inner\"\n",
    "    )\n",
    "    .withColumns({\n",
    "        \"AE\": F.abs(F.col(\"Vol\") - F.col(\"prediction_vol\")),\n",
    "        \"APE\": F.col(\"AE\") / F.col(\"Vol\"),\n",
    "        \"range_days\": F.expr(\"cast(range_history as int) / 60 / 60 / 24\"),\n",
    "        \"future_forecasting_minutes\": F.expr(\"cast(future_forecasting as int) / 60\"),\n",
    "    }).drop(\"prediction_ds\").distinct()\n",
    ")"
   ]
  },
  {
   "cell_type": "code",
   "execution_count": 12,
   "id": "63d52a1d-ce30-4d22-b7dc-39f52e219428",
   "metadata": {
    "tags": []
   },
   "outputs": [],
   "source": [
    "result_df = (\n",
    "    join_df.filter(F.col(\"range_days\").isin(1, 3, 7)).groupBy(\n",
    "        \"range_days\", \"future_forecasting_minutes\"\n",
    "    ).agg(\n",
    "        F.mean(\"AE\").alias(\"MAE\"),\n",
    "        F.mean(\"APE\").alias(\"MAPE\")\n",
    "    ).orderBy(\"range_days\", \"future_forecasting_minutes\")\n",
    ")"
   ]
  },
  {
   "cell_type": "code",
   "execution_count": 13,
   "id": "3a5cdf23-64fa-47fd-9814-24e1e8ad5d1b",
   "metadata": {
    "tags": []
   },
   "outputs": [
    {
     "name": "stdout",
     "output_type": "stream",
     "text": [
      "+----------+--------------------------+------------------+------------------+\n",
      "|range_days|future_forecasting_minutes|MAE               |MAPE              |\n",
      "+----------+--------------------------+------------------+------------------+\n",
      "|1.0       |15.0                      |65.14403726903645 |2.698376070117741 |\n",
      "|1.0       |30.0                      |68.7648693422478  |3.055176302980304 |\n",
      "|1.0       |45.0                      |72.68375343306488 |3.180608756824797 |\n",
      "|1.0       |60.0                      |73.43790958305358 |3.4704070728444614|\n",
      "|3.0       |15.0                      |37.48757694544656 |2.628695766301816 |\n",
      "|3.0       |30.0                      |38.22349815775478 |1.541917254841239 |\n",
      "|3.0       |45.0                      |39.706139128599986|2.0659343933151675|\n",
      "|3.0       |60.0                      |40.346620025155254|2.043624796533942 |\n",
      "|7.0       |15.0                      |39.4402499563356  |0.9199849081298122|\n",
      "|7.0       |30.0                      |39.732055013241045|0.8093740005707126|\n",
      "|7.0       |45.0                      |41.53627974164457 |1.073912018254969 |\n",
      "|7.0       |60.0                      |42.143540708205244|1.1180410461939374|\n",
      "+----------+--------------------------+------------------+------------------+\n",
      "\n"
     ]
    },
    {
     "data": {
      "text/plain": [
       "None"
      ]
     },
     "metadata": {},
     "output_type": "display_data"
    },
    {
     "name": "stdout",
     "output_type": "stream",
     "text": [
      "Stopping live...\n"
     ]
    }
   ],
   "source": [
    "try:\n",
    "    while True:\n",
    "        display(result_df.show(truncate=False))\n",
    "        sleep(DELAY)\n",
    "        clear_output(wait=False)\n",
    "except KeyboardInterrupt:\n",
    "    print(\"Stopping live...\")"
   ]
  },
  {
   "cell_type": "code",
   "execution_count": 14,
   "id": "92f85ca9-14cf-432b-b497-4cc454ddcd34",
   "metadata": {},
   "outputs": [],
   "source": [
    "result_pdf = result_df.toPandas()"
   ]
  },
  {
   "cell_type": "code",
   "execution_count": 83,
   "id": "bf9f5d1a-fe4a-4ac1-9b37-8fbe412a2956",
   "metadata": {
    "tags": []
   },
   "outputs": [
    {
     "data": {
      "text/html": [
       "<div>\n",
       "<style scoped>\n",
       "    .dataframe tbody tr th:only-of-type {\n",
       "        vertical-align: middle;\n",
       "    }\n",
       "\n",
       "    .dataframe tbody tr th {\n",
       "        vertical-align: top;\n",
       "    }\n",
       "\n",
       "    .dataframe thead th {\n",
       "        text-align: right;\n",
       "    }\n",
       "</style>\n",
       "<table border=\"1\" class=\"dataframe\">\n",
       "  <thead>\n",
       "    <tr style=\"text-align: right;\">\n",
       "      <th></th>\n",
       "      <th>range_days</th>\n",
       "      <th>future_forecasting_minutes</th>\n",
       "      <th>MAE</th>\n",
       "      <th>MAPE</th>\n",
       "    </tr>\n",
       "  </thead>\n",
       "  <tbody>\n",
       "    <tr>\n",
       "      <th>0</th>\n",
       "      <td>1</td>\n",
       "      <td>15</td>\n",
       "      <td>65.144037</td>\n",
       "      <td>2.698376</td>\n",
       "    </tr>\n",
       "    <tr>\n",
       "      <th>1</th>\n",
       "      <td>1</td>\n",
       "      <td>30</td>\n",
       "      <td>68.764869</td>\n",
       "      <td>3.055176</td>\n",
       "    </tr>\n",
       "    <tr>\n",
       "      <th>2</th>\n",
       "      <td>1</td>\n",
       "      <td>45</td>\n",
       "      <td>72.683753</td>\n",
       "      <td>3.180609</td>\n",
       "    </tr>\n",
       "    <tr>\n",
       "      <th>3</th>\n",
       "      <td>1</td>\n",
       "      <td>60</td>\n",
       "      <td>73.437910</td>\n",
       "      <td>3.470407</td>\n",
       "    </tr>\n",
       "    <tr>\n",
       "      <th>4</th>\n",
       "      <td>3</td>\n",
       "      <td>15</td>\n",
       "      <td>37.487577</td>\n",
       "      <td>2.628696</td>\n",
       "    </tr>\n",
       "    <tr>\n",
       "      <th>5</th>\n",
       "      <td>3</td>\n",
       "      <td>30</td>\n",
       "      <td>38.223498</td>\n",
       "      <td>1.541917</td>\n",
       "    </tr>\n",
       "    <tr>\n",
       "      <th>6</th>\n",
       "      <td>3</td>\n",
       "      <td>45</td>\n",
       "      <td>39.706139</td>\n",
       "      <td>2.065934</td>\n",
       "    </tr>\n",
       "    <tr>\n",
       "      <th>7</th>\n",
       "      <td>3</td>\n",
       "      <td>60</td>\n",
       "      <td>40.346620</td>\n",
       "      <td>2.043625</td>\n",
       "    </tr>\n",
       "    <tr>\n",
       "      <th>8</th>\n",
       "      <td>7</td>\n",
       "      <td>15</td>\n",
       "      <td>39.440250</td>\n",
       "      <td>0.919985</td>\n",
       "    </tr>\n",
       "    <tr>\n",
       "      <th>9</th>\n",
       "      <td>7</td>\n",
       "      <td>30</td>\n",
       "      <td>39.732055</td>\n",
       "      <td>0.809374</td>\n",
       "    </tr>\n",
       "    <tr>\n",
       "      <th>10</th>\n",
       "      <td>7</td>\n",
       "      <td>45</td>\n",
       "      <td>41.536280</td>\n",
       "      <td>1.073912</td>\n",
       "    </tr>\n",
       "    <tr>\n",
       "      <th>11</th>\n",
       "      <td>7</td>\n",
       "      <td>60</td>\n",
       "      <td>42.143541</td>\n",
       "      <td>1.118041</td>\n",
       "    </tr>\n",
       "  </tbody>\n",
       "</table>\n",
       "</div>"
      ],
      "text/plain": [
       "    range_days  future_forecasting_minutes        MAE      MAPE\n",
       "0            1                          15  65.144037  2.698376\n",
       "1            1                          30  68.764869  3.055176\n",
       "2            1                          45  72.683753  3.180609\n",
       "3            1                          60  73.437910  3.470407\n",
       "4            3                          15  37.487577  2.628696\n",
       "5            3                          30  38.223498  1.541917\n",
       "6            3                          45  39.706139  2.065934\n",
       "7            3                          60  40.346620  2.043625\n",
       "8            7                          15  39.440250  0.919985\n",
       "9            7                          30  39.732055  0.809374\n",
       "10           7                          45  41.536280  1.073912\n",
       "11           7                          60  42.143541  1.118041"
      ]
     },
     "execution_count": 83,
     "metadata": {},
     "output_type": "execute_result"
    }
   ],
   "source": [
    "result_pdf"
   ]
  },
  {
   "cell_type": "code",
   "execution_count": 50,
   "id": "2671a04e-d540-4d40-9ffa-51b9b73a336d",
   "metadata": {},
   "outputs": [],
   "source": [
    "import seaborn as sns\n",
    "import matplotlib.pyplot as plt"
   ]
  },
  {
   "cell_type": "code",
   "execution_count": 82,
   "id": "64d529b8-feb6-477a-b9bc-42e8b9ff8788",
   "metadata": {
    "tags": []
   },
   "outputs": [],
   "source": [
    "plt.rcParams['font.family'] = 'Bahnschrift'  # Change 'your_font_family' to the desired font family\n",
    "\n",
    "\n",
    "result_pdf[\"future_forecasting_minutes\"] = result_pdf[\"future_forecasting_minutes\"].astype('int')\n",
    "result_pdf[\"range_days\"] = result_pdf[\"range_days\"].astype('int')"
   ]
  },
  {
   "cell_type": "code",
   "execution_count": 84,
   "id": "415c6af3-0f53-4d96-a609-4e0cf185cd2e",
   "metadata": {},
   "outputs": [
    {
     "data": {
      "image/png": "[encoded data removed]",
      "text/plain": [
       "<Figure size 640x480 with 1 Axes>"
      ]
     },
     "metadata": {},
     "output_type": "display_data"
    },
    {
     "data": {
      "image/png": "[encoded data removed]",
      "text/plain": [
       "<Figure size 640x480 with 1 Axes>"
      ]
     },
     "metadata": {},
     "output_type": "display_data"
    }
   ],
   "source": [
    "sns.barplot(data=result_pdf, x=\"future_forecasting_minutes\", y=\"MAE\", hue=\"range_days\")\n",
    "plt.legend(title=\"Range Days\", bbox_to_anchor=(0.9, 1), loc='upper left')\n",
    "plt.xlabel(\"Future Forecasting Minutes\")\n",
    "plt.show()\n",
    "\n",
    "sns.barplot(data=result_pdf, x=\"future_forecasting_minutes\", y=\"MAPE\", hue=\"range_days\")\n",
    "plt.legend(title=\"Range Days\", bbox_to_anchor=(0.9, 1), loc='upper left')\n",
    "plt.xlabel(\"Future Forecasting Minutes\")\n",
    "plt.show()\n",
    "\n"
   ]
  },
  {
   "cell_type": "code",
   "execution_count": null,
   "id": "2b6444ea-c385-42ad-bcca-fa74c1a592f5",
   "metadata": {},
   "outputs": [],
   "source": []
  }
 ],
 "metadata": {
  "kernelspec": {
   "display_name": "Python 3 (ipykernel)",
   "language": "python",
   "name": "python3"
  },
  "language_info": {
   "codemirror_mode": {
    "name": "ipython",
    "version": 3
   },
   "file_extension": ".py",
   "mimetype": "text/x-python",
   "name": "python",
   "nbconvert_exporter": "python",
   "pygments_lexer": "ipython3",
   "version": "3.11.4"
  }
 },
 "nbformat": 4,
 "nbformat_minor": 5
}
