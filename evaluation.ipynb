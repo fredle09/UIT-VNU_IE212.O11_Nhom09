{
 "cells": [
  {
   "cell_type": "code",
   "execution_count": 1,
   "id": "b91e1a59-121a-4b6c-abd7-f610ac6e19d3",
   "metadata": {
    "tags": []
   },
   "outputs": [],
   "source": [
    "from IPython.display import display, clear_output\n",
    "from bin.config import *\n",
    "from bin.consumer import Consumer"
   ]
  },
  {
   "cell_type": "code",
   "execution_count": 2,
   "id": "54fb9580-1fd8-447d-96aa-feb147f3ce77",
   "metadata": {
    "tags": []
   },
   "outputs": [],
   "source": [
    "spark_session: SparkSession = (\n",
    "    SparkSession.builder.appName(\"Real-time Evaluation Prediction\")\n",
    "    .config(\"spark.jars.packages\", \",\".join(SPARK_PACKAGES))\n",
    "    .getOrCreate()\n",
    ")"
   ]
  },
  {
   "cell_type": "code",
   "execution_count": 3,
   "id": "9aabae05-d523-492d-bdc1-5453a3c8c164",
   "metadata": {
    "tags": []
   },
   "outputs": [],
   "source": [
    "capture_con: Consumer = Consumer(\n",
    "    CAPTURE_TOPIC, CAPTURE_SCHEMA_LIST, spark_session\n",
    ")\n",
    "\n",
    "prediction_con: Consumer = Consumer(\n",
    "    PREDICTION_TOPIC, PREDICTION_SCHEMA_LIST, spark_session\n",
    ")"
   ]
  },
  {
   "cell_type": "code",
   "execution_count": 4,
   "id": "6bda87f9-ccc2-4657-a230-40b62d95e335",
   "metadata": {
    "tags": []
   },
   "outputs": [],
   "source": [
    "capture_df: DataFrame = capture_con.get_history_df()\n",
    "prediction_df: DataFrame = prediction_con.get_history_df()\n",
    "\n",
    "prediction_df = (\n",
    "    prediction_df.withColumn(\"range_history\", F.col(\"max_history_ds\") - F.col(\"min_history_ds\"))\n",
    "    .withColumn(\"future_forecasting\", F.col(\"Timestamp\") - F.col(\"max_history_ds\"))\n",
    ")"
   ]
  },
  {
   "cell_type": "code",
   "execution_count": 5,
   "id": "d43cd11e-d714-4b8f-911c-6c635a97aeb0",
   "metadata": {
    "tags": []
   },
   "outputs": [],
   "source": [
    "join_df = (\n",
    "    capture_df.join(\n",
    "        prediction_df,\n",
    "        on=[\"SegmentID\", \"Timestamp\", \"Direction\"],\n",
    "        how=\"inner\"\n",
    "    )\n",
    "    .withColumns({\n",
    "        \"AE\": F.abs(F.col(\"Vol\") - F.col(\"prediction_vol\")),\n",
    "        \"APE\": F.col(\"AE\") / F.col(\"Vol\"),\n",
    "        \"range_days\": F.expr(\"cast(range_history as int) / 60 / 60 / 24\"),\n",
    "        \"future_forecasting_minutes\": F.expr(\"cast(future_forecasting as int) / 60\"),\n",
    "    }).drop(\"prediction_ds\").distinct()\n",
    ")"
   ]
  },
  {
   "cell_type": "code",
   "execution_count": 8,
   "id": "63d52a1d-ce30-4d22-b7dc-39f52e219428",
   "metadata": {
    "tags": []
   },
   "outputs": [],
   "source": [
    "result_df = (\n",
    "    join_df\n",
    "    .filter(F.col(\"range_days\").isin(1, 3, 7))\n",
    "    .groupBy(\"range_days\", \"future_forecasting_minutes\")\n",
    "    .agg(\n",
    "        F.mean(\"AE\").alias(\"MAE\"),\n",
    "        F.mean(\"APE\").alias(\"MAPE\"),\n",
    "    ).orderBy(\"range_days\", \"future_forecasting_minutes\")\n",
    ")"
   ]
  },
  {
   "cell_type": "code",
   "execution_count": 9,
   "id": "0db5dcab-dc9a-495b-8d03-be27cbcc8eeb",
   "metadata": {
    "tags": []
   },
   "outputs": [
    {
     "name": "stdout",
     "output_type": "stream",
     "text": [
      "+----------+--------------------------+------------------+------------------+\n",
      "|range_days|future_forecasting_minutes|MAE               |MAPE              |\n",
      "+----------+--------------------------+------------------+------------------+\n",
      "|1.0       |15.0                      |64.13970947428265 |2.87066304247903  |\n",
      "|1.0       |30.0                      |67.92340430977764 |2.9050849784161774|\n",
      "|1.0       |45.0                      |70.32642432474415 |2.9639764473463264|\n",
      "|1.0       |60.0                      |73.09146498073481 |2.898166966788776 |\n",
      "|3.0       |15.0                      |38.581803130544074|1.5442228759566115|\n",
      "|3.0       |30.0                      |40.09459047903499 |1.7126250256988327|\n",
      "|3.0       |45.0                      |40.94652175544726 |1.6619707334253035|\n",
      "|3.0       |60.0                      |42.8342712686044  |2.1782023838055298|\n",
      "|7.0       |15.0                      |39.3667893979937  |1.424235342899521 |\n",
      "|7.0       |30.0                      |40.09581163500092 |1.4618074224122857|\n",
      "|7.0       |45.0                      |40.32512201101661 |1.3067280769931533|\n",
      "|7.0       |60.0                      |41.46605018351379 |1.7370647714373675|\n",
      "+----------+--------------------------+------------------+------------------+\n",
      "\n"
     ]
    },
    {
     "data": {
      "text/plain": [
       "None"
      ]
     },
     "metadata": {},
     "output_type": "display_data"
    },
    {
     "name": "stdout",
     "output_type": "stream",
     "text": [
      "Stopping live...\n"
     ]
    }
   ],
   "source": [
    "try:\n",
    "    while True:\n",
    "        display(result_df.show(75, truncate=False))\n",
    "        sleep(DELAY)\n",
    "        clear_output(wait=False)\n",
    "except KeyboardInterrupt:\n",
    "    print(\"Stopping live...\")"
   ]
  },
  {
   "cell_type": "code",
   "execution_count": 10,
   "id": "92f85ca9-14cf-432b-b497-4cc454ddcd34",
   "metadata": {
    "tags": []
   },
   "outputs": [],
   "source": [
    "result_pdf = result_df.toPandas()"
   ]
  },
  {
   "cell_type": "code",
   "execution_count": 11,
   "id": "bf9f5d1a-fe4a-4ac1-9b37-8fbe412a2956",
   "metadata": {
    "tags": []
   },
   "outputs": [
    {
     "data": {
      "text/html": [
       "<div>\n",
       "<style scoped>\n",
       "    .dataframe tbody tr th:only-of-type {\n",
       "        vertical-align: middle;\n",
       "    }\n",
       "\n",
       "    .dataframe tbody tr th {\n",
       "        vertical-align: top;\n",
       "    }\n",
       "\n",
       "    .dataframe thead th {\n",
       "        text-align: right;\n",
       "    }\n",
       "</style>\n",
       "<table border=\"1\" class=\"dataframe\">\n",
       "  <thead>\n",
       "    <tr style=\"text-align: right;\">\n",
       "      <th></th>\n",
       "      <th>range_days</th>\n",
       "      <th>future_forecasting_minutes</th>\n",
       "      <th>MAE</th>\n",
       "      <th>MAPE</th>\n",
       "    </tr>\n",
       "  </thead>\n",
       "  <tbody>\n",
       "    <tr>\n",
       "      <th>0</th>\n",
       "      <td>1.0</td>\n",
       "      <td>15.0</td>\n",
       "      <td>64.139709</td>\n",
       "      <td>2.870663</td>\n",
       "    </tr>\n",
       "    <tr>\n",
       "      <th>1</th>\n",
       "      <td>1.0</td>\n",
       "      <td>30.0</td>\n",
       "      <td>67.923404</td>\n",
       "      <td>2.905085</td>\n",
       "    </tr>\n",
       "    <tr>\n",
       "      <th>2</th>\n",
       "      <td>1.0</td>\n",
       "      <td>45.0</td>\n",
       "      <td>70.326424</td>\n",
       "      <td>2.963976</td>\n",
       "    </tr>\n",
       "    <tr>\n",
       "      <th>3</th>\n",
       "      <td>1.0</td>\n",
       "      <td>60.0</td>\n",
       "      <td>73.091465</td>\n",
       "      <td>2.898167</td>\n",
       "    </tr>\n",
       "    <tr>\n",
       "      <th>4</th>\n",
       "      <td>3.0</td>\n",
       "      <td>15.0</td>\n",
       "      <td>38.581803</td>\n",
       "      <td>1.544223</td>\n",
       "    </tr>\n",
       "    <tr>\n",
       "      <th>5</th>\n",
       "      <td>3.0</td>\n",
       "      <td>30.0</td>\n",
       "      <td>40.094590</td>\n",
       "      <td>1.712625</td>\n",
       "    </tr>\n",
       "    <tr>\n",
       "      <th>6</th>\n",
       "      <td>3.0</td>\n",
       "      <td>45.0</td>\n",
       "      <td>40.946522</td>\n",
       "      <td>1.661971</td>\n",
       "    </tr>\n",
       "    <tr>\n",
       "      <th>7</th>\n",
       "      <td>3.0</td>\n",
       "      <td>60.0</td>\n",
       "      <td>42.834271</td>\n",
       "      <td>2.178202</td>\n",
       "    </tr>\n",
       "    <tr>\n",
       "      <th>8</th>\n",
       "      <td>7.0</td>\n",
       "      <td>15.0</td>\n",
       "      <td>39.366789</td>\n",
       "      <td>1.424235</td>\n",
       "    </tr>\n",
       "    <tr>\n",
       "      <th>9</th>\n",
       "      <td>7.0</td>\n",
       "      <td>30.0</td>\n",
       "      <td>40.095812</td>\n",
       "      <td>1.461807</td>\n",
       "    </tr>\n",
       "    <tr>\n",
       "      <th>10</th>\n",
       "      <td>7.0</td>\n",
       "      <td>45.0</td>\n",
       "      <td>40.325122</td>\n",
       "      <td>1.306728</td>\n",
       "    </tr>\n",
       "    <tr>\n",
       "      <th>11</th>\n",
       "      <td>7.0</td>\n",
       "      <td>60.0</td>\n",
       "      <td>41.466050</td>\n",
       "      <td>1.737065</td>\n",
       "    </tr>\n",
       "  </tbody>\n",
       "</table>\n",
       "</div>"
      ],
      "text/plain": [
       "    range_days  future_forecasting_minutes        MAE      MAPE\n",
       "0          1.0                        15.0  64.139709  2.870663\n",
       "1          1.0                        30.0  67.923404  2.905085\n",
       "2          1.0                        45.0  70.326424  2.963976\n",
       "3          1.0                        60.0  73.091465  2.898167\n",
       "4          3.0                        15.0  38.581803  1.544223\n",
       "5          3.0                        30.0  40.094590  1.712625\n",
       "6          3.0                        45.0  40.946522  1.661971\n",
       "7          3.0                        60.0  42.834271  2.178202\n",
       "8          7.0                        15.0  39.366789  1.424235\n",
       "9          7.0                        30.0  40.095812  1.461807\n",
       "10         7.0                        45.0  40.325122  1.306728\n",
       "11         7.0                        60.0  41.466050  1.737065"
      ]
     },
     "execution_count": 11,
     "metadata": {},
     "output_type": "execute_result"
    }
   ],
   "source": [
    "result_pdf"
   ]
  },
  {
   "cell_type": "code",
   "execution_count": 12,
   "id": "2671a04e-d540-4d40-9ffa-51b9b73a336d",
   "metadata": {
    "tags": []
   },
   "outputs": [],
   "source": [
    "import seaborn as sns\n",
    "import matplotlib.pyplot as plt"
   ]
  },
  {
   "cell_type": "code",
   "execution_count": 13,
   "id": "64d529b8-feb6-477a-b9bc-42e8b9ff8788",
   "metadata": {
    "tags": []
   },
   "outputs": [],
   "source": [
    "plt.rcParams['font.family'] = 'Bahnschrift'  # Change 'your_font_family' to the desired font family\n",
    "\n",
    "\n",
    "result_pdf[\"future_forecasting_minutes\"] = result_pdf[\"future_forecasting_minutes\"].astype('int')\n",
    "result_pdf[\"range_days\"] = result_pdf[\"range_days\"].astype('int')"
   ]
  },
  {
   "cell_type": "code",
   "execution_count": 14,
   "id": "415c6af3-0f53-4d96-a609-4e0cf185cd2e",
   "metadata": {
    "tags": []
   },
   "outputs": [
    {
     "data": {
      "image/png": "[encoded data removed]",
      "text/plain": [
       "<Figure size 640x480 with 1 Axes>"
      ]
     },
     "metadata": {},
     "output_type": "display_data"
    },
    {
     "data": {
      "image/png": "[encoded data removed]",
      "text/plain": [
       "<Figure size 640x480 with 1 Axes>"
      ]
     },
     "metadata": {},
     "output_type": "display_data"
    }
   ],
   "source": [
    "sns.barplot(data=result_pdf, x=\"future_forecasting_minutes\", y=\"MAE\", hue=\"range_days\")\n",
    "plt.legend(title=\"Range Days\", bbox_to_anchor=(0.9, 1), loc='upper left')\n",
    "plt.xlabel(\"Future Forecasting Minutes\")\n",
    "plt.show()\n",
    "\n",
    "sns.barplot(data=result_pdf, x=\"future_forecasting_minutes\", y=\"MAPE\", hue=\"range_days\")\n",
    "plt.legend(title=\"Range Days\", bbox_to_anchor=(0.9, 1), loc='upper left')\n",
    "plt.xlabel(\"Future Forecasting Minutes\")\n",
    "plt.show()\n",
    "\n"
   ]
  },
  {
   "cell_type": "code",
   "execution_count": null,
   "id": "2b6444ea-c385-42ad-bcca-fa74c1a592f5",
   "metadata": {},
   "outputs": [],
   "source": []
  }
 ],
 "metadata": {
  "kernelspec": {
   "display_name": "Python 3 (ipykernel)",
   "language": "python",
   "name": "python3"
  },
  "language_info": {
   "codemirror_mode": {
    "name": "ipython",
    "version": 3
   },
   "file_extension": ".py",
   "mimetype": "text/x-python",
   "name": "python",
   "nbconvert_exporter": "python",
   "pygments_lexer": "ipython3",
   "version": "3.11.4"
  }
 },
 "nbformat": 4,
 "nbformat_minor": 5
}
