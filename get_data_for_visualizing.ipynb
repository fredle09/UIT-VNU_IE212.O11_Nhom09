{
 "cells": [
  {
   "cell_type": "code",
   "execution_count": 1,
   "id": "26670ea0-d921-44f3-88f8-2ddcca85b3c6",
   "metadata": {
    "tags": []
   },
   "outputs": [],
   "source": [
    "from bin.config import *\n",
    "from bin.consumer import Consumer"
   ]
  },
  {
   "cell_type": "code",
   "execution_count": 2,
   "id": "b9563649-0f69-41e8-9591-92e098b573a4",
   "metadata": {
    "tags": []
   },
   "outputs": [],
   "source": [
    "spark_session: SparkSession = (\n",
    "    SparkSession.builder.appName(\"Consumer data for Visualizing\")  # type: ignore\n",
    "    .config(\"spark.jars.packages\", \",\".join(SPARK_PACKAGES))\n",
    "    .getOrCreate()\n",
    ")"
   ]
  },
  {
   "cell_type": "code",
   "execution_count": 5,
   "id": "20c1209a-0407-424d-bad4-f84af05bfdb7",
   "metadata": {
    "tags": []
   },
   "outputs": [],
   "source": [
    "capture_con: Consumer = Consumer(\n",
    "    topic=CAPTURE_TOPIC,\n",
    "    schema_list=CAPTURE_SCHEMA_LIST,\n",
    "    spark_session=spark_session,\n",
    ")\n",
    "\n",
    "segment_con: Consumer = Consumer(\n",
    "    topic=SEGMENT_TOPIC,\n",
    "    schema_list=SEGMENT_SCHEMA_LIST,\n",
    "    spark_session=spark_session,\n",
    ")"
   ]
  },
  {
   "cell_type": "code",
   "execution_count": 6,
   "id": "53c8998d-3e9a-4595-82ef-5bee39813b5b",
   "metadata": {
    "tags": []
   },
   "outputs": [],
   "source": [
    "segment_table = segment_con.get_history_df()"
   ]
  },
  {
   "cell_type": "code",
   "execution_count": 7,
   "id": "57b83937-e2ae-4d97-a0ec-00a61c493924",
   "metadata": {
    "tags": []
   },
   "outputs": [],
   "source": [
    "BATCH_NAME_FILE: str = \"batch_folder/batch.csv\"\n",
    "CACHE_NAME_FILE: str = \"batch_folder/cache.csv\""
   ]
  },
  {
   "cell_type": "code",
   "execution_count": 8,
   "id": "b6afb81a-87a1-4511-a033-93366fee0fe0",
   "metadata": {
    "tags": []
   },
   "outputs": [],
   "source": [
    "def store_dataframe_to_csv(df: DataFrame, path: str, **kwargs) -> None:\n",
    "    return df.toPandas().to_csv(path, **kwargs)"
   ]
  },
  {
   "cell_type": "code",
   "execution_count": 9,
   "id": "74c2c636-dc72-4527-9beb-b20e7fb7feab",
   "metadata": {
    "tags": []
   },
   "outputs": [],
   "source": [
    "def handle_batch_event_table(event_df: DataFrame, epoch_id: int) -> None:\n",
    "    result: DataFrame = event_df.join(segment_table, on=\"SegmentID\", how=\"inner\")\n",
    "    store_dataframe_to_csv(result, BATCH_NAME_FILE, header=True, index=False)\n",
    "    \n",
    "    result = (\n",
    "        result.groupBy(\"Boro\", \"Timestamp\")\n",
    "        .agg(F.sum(F.col(\"Vol\")), F.count(F.col(\"Vol\")))\n",
    "        .withColumn(\"Avg(Vol)\", F.col(\"Sum(Vol)\") / F.col(\"Count(Vol)\"))\n",
    "        .drop(\"Sum(Vol)\", \"Count(Vol)\")\n",
    "    )\n",
    "\n",
    "    store_dataframe_to_csv(\n",
    "        result, CACHE_NAME_FILE, header=False, index=False, mode=\"a\"\n",
    "    )"
   ]
  },
  {
   "cell_type": "code",
   "execution_count": null,
   "id": "fa0f8f84-55ad-4f28-b08e-3eed20950e8c",
   "metadata": {
    "tags": []
   },
   "outputs": [
    {
     "name": "stdout",
     "output_type": "stream",
     "text": [
      "2017-06-20 03:15:00\n",
      "Streaming query is running...\n"
     ]
    },
    {
     "name": "stderr",
     "output_type": "stream",
     "text": [
      "ERROR:root:KeyboardInterrupt while sending command.\n",
      "Traceback (most recent call last):\n",
      "  File \"C:\\Users\\le197\\anaconda3\\Lib\\site-packages\\py4j\\clientserver.py\", line 511, in send_command\n",
      "    answer = smart_decode(self.stream.readline()[:-1])\n",
      "                          ^^^^^^^^^^^^^^^^^^^^^^\n",
      "  File \"C:\\Users\\le197\\anaconda3\\Lib\\socket.py\", line 706, in readinto\n",
      "    return self._sock.recv_into(b)\n",
      "           ^^^^^^^^^^^^^^^^^^^^^^^\n",
      "ConnectionResetError: [WinError 10054] An existing connection was forcibly closed by the remote host\n",
      "\n",
      "During handling of the above exception, another exception occurred:\n",
      "\n",
      "Traceback (most recent call last):\n",
      "  File \"C:\\Users\\le197\\anaconda3\\Lib\\site-packages\\py4j\\java_gateway.py\", line 1038, in send_command\n",
      "    response = connection.send_command(command)\n",
      "               ^^^^^^^^^^^^^^^^^^^^^^^^^^^^^^^^\n",
      "  File \"C:\\Users\\le197\\anaconda3\\Lib\\site-packages\\py4j\\clientserver.py\", line 538, in send_command\n",
      "    logger.info(\"Error while receiving.\", exc_info=True)\n",
      "  File \"C:\\Users\\le197\\anaconda3\\Lib\\logging\\__init__.py\", line 1479, in info\n",
      "    def info(self, msg, *args, **kwargs):\n",
      "    \n",
      "KeyboardInterrupt\n"
     ]
    },
    {
     "name": "stdout",
     "output_type": "stream",
     "text": [
      "Stopping streaming query...\n"
     ]
    }
   ],
   "source": [
    "streaming_df: DataFrame = capture_con.get_streaming_df()\n",
    "streaming_query: StreamingQuery = capture_con.handle_batch_streaming_with_callable(\n",
    "    streaming_df, handle_batch_event_table\n",
    ")\n",
    "\n",
    "print(\"Streaming query is running...\")\n",
    "\n",
    "try:\n",
    "    streaming_query.awaitTermination()\n",
    "except KeyboardInterrupt:\n",
    "    print(\"Stopping streaming query...\")\n",
    "    streaming_query.stop()\n",
    "    print(\"Streaming query stopped.\")"
   ]
  },
  {
   "cell_type": "code",
   "execution_count": null,
   "id": "ab368775-2c31-4e32-8d8a-1994d39edb0e",
   "metadata": {},
   "outputs": [],
   "source": []
  }
 ],
 "metadata": {
  "kernelspec": {
   "display_name": "Python 3 (ipykernel)",
   "language": "python",
   "name": "python3"
  },
  "language_info": {
   "codemirror_mode": {
    "name": "ipython",
    "version": 3
   },
   "file_extension": ".py",
   "mimetype": "text/x-python",
   "name": "python",
   "nbconvert_exporter": "python",
   "pygments_lexer": "ipython3",
   "version": "3.11.4"
  }
 },
 "nbformat": 4,
 "nbformat_minor": 5
}
