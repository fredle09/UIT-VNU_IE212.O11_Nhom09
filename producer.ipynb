{
 "cells": [
  {
   "cell_type": "code",
   "execution_count": 1,
   "id": "0dbf9002-e63a-4b4c-ab23-f938ed90dee4",
   "metadata": {
    "tags": []
   },
   "outputs": [],
   "source": [
    "from bin.config import *\n",
    "from bin.producer import Producer, using_producer\n",
    "from multiprocessing import Process"
   ]
  },
  {
   "cell_type": "code",
   "execution_count": 2,
   "id": "3dcccbf1-ed90-4d57-9a62-a7a0b21878be",
   "metadata": {
    "tags": []
   },
   "outputs": [
    {
     "data": {
      "text/plain": [
       "['Event_table_boro=Bronx.csv',\n",
       " 'Event_table_boro=Brooklyn.csv',\n",
       " 'Event_table_boro=Queens.csv',\n",
       " 'Event_table_boro=Staten_Island.csv']"
      ]
     },
     "execution_count": 2,
     "metadata": {},
     "output_type": "execute_result"
    }
   ],
   "source": [
    "csv_file_names: list[str] = os.listdir(\n",
    "    os.path.join(DATASETS_PATH, \"streaming_files\")\n",
    ")\n",
    "csv_file_names = [file_name for file_name in csv_file_names if file_name.split(\".\")[-1] == \"csv\"]\n",
    "csv_file_names"
   ]
  },
  {
   "cell_type": "code",
   "execution_count": null,
   "id": "b9d1f106-bdd4-417d-ae6c-360686c1778d",
   "metadata": {
    "tags": []
   },
   "outputs": [
    {
     "name": "stdout",
     "output_type": "stream",
     "text": [
      "Streaming data from file: Event_table_boro=Bronx.csv\n",
      "Streaming data from file: Event_table_boro=Brooklyn.csv\n",
      "Streaming data from file: Event_table_boro=Queens.csv\n",
      "Streaming data from file: Event_table_boro=Staten_Island.csv\n"
     ]
    }
   ],
   "source": [
    "processes: list[Process] = []\n",
    "\n",
    "for csv_file_name in csv_file_names:\n",
    "    csv_file_path: str = os.path.join(\n",
    "        DATASETS_PATH,\n",
    "        \"streaming_files\",\n",
    "        csv_file_name,\n",
    "    )\n",
    "    p: Process = Process(\n",
    "        target=using_producer,\n",
    "        args=(csv_file_path,),\n",
    "    )\n",
    "    print(\"Streaming data from file:\", csv_file_name)\n",
    "    p.start()\n",
    "    processes.append(p)\n",
    "    \n",
    "try:\n",
    "    for p in processes:\n",
    "        p.join()\n",
    "except KeyboardInterrupt:\n",
    "    print(\"Stopped streaming data to Kafka\")"
   ]
  },
  {
   "cell_type": "code",
   "execution_count": null,
   "id": "69b66a83-4b9b-4057-9dde-76958c0ff02f",
   "metadata": {},
   "outputs": [],
   "source": []
  }
 ],
 "metadata": {
  "kernelspec": {
   "display_name": "Python 3 (ipykernel)",
   "language": "python",
   "name": "python3"
  },
  "language_info": {
   "codemirror_mode": {
    "name": "ipython",
    "version": 3
   },
   "file_extension": ".py",
   "mimetype": "text/x-python",
   "name": "python",
   "nbconvert_exporter": "python",
   "pygments_lexer": "ipython3",
   "version": "3.11.4"
  }
 },
 "nbformat": 4,
 "nbformat_minor": 5
}
